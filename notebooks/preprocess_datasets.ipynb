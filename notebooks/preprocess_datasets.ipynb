{
 "cells": [
  {
   "cell_type": "code",
   "execution_count": 2,
   "metadata": {
    "vscode": {
     "languageId": "plaintext"
    }
   },
   "outputs": [
    {
     "name": "stdout",
     "output_type": "stream",
     "text": [
      "Saved processed dataset to ../data/processed/all_news.csv\n",
      "(52284, 4)\n",
      "label\n",
      "0.0    32790\n",
      "1.0    19494\n",
      "Name: count, dtype: int64\n",
      "source\n",
      "kaggle         23481\n",
      "fakenewsnet    23196\n",
      "liar            5607\n",
      "Name: count, dtype: int64\n"
     ]
    }
   ],
   "source": [
    "import pandas as pd\n",
    "import os\n",
    "import re\n",
    "\n",
    "# clean text\n",
    "def clean_text(text):\n",
    "    if not isinstance(text, str):\n",
    "        return \"\"\n",
    "    text = text.lower()\n",
    "    text = re.sub(r\"http\\S+|www\\S+\", \" \", text)\n",
    "    text = re.sub(r\"[^a-z\\s]\", \" \", text)\n",
    "    text = re.sub(r\"\\s+\", \" \", text).strip()\n",
    "    return text\n",
    "\n",
    "# normalize label\n",
    "def normalize_label(label):\n",
    "    label = str(label).lower()\n",
    "    if label in [\"fake\", \"false\", \"pants-fire\"]:\n",
    "        return 0\n",
    "    elif label in [\"real\", \"true\"]:\n",
    "        return 1\n",
    "    else:\n",
    "        return None\n",
    "\n",
    "# dirs\n",
    "DATA_DIR = \"../data\"\n",
    "PROCESSED_DIR = os.path.join(DATA_DIR, \"processed\")\n",
    "os.makedirs(PROCESSED_DIR, exist_ok=True)\n",
    "\n",
    "# FakeNewsNet\n",
    "fnn_fake1 = pd.read_csv(os.path.join(DATA_DIR, \"fakenewsnet_dataset\", \"dataset\", \"politifact_fake.csv\"))\n",
    "fnn_real1 = pd.read_csv(os.path.join(DATA_DIR, \"fakenewsnet_dataset\", \"dataset\", \"politifact_real.csv\"))\n",
    "fnn_fake2 = pd.read_csv(os.path.join(DATA_DIR, \"fakenewsnet_dataset\", \"dataset\", \"gossipcop_fake.csv\"))\n",
    "fnn_real2 = pd.read_csv(os.path.join(DATA_DIR, \"fakenewsnet_dataset\", \"dataset\", \"gossipcop_real.csv\"))\n",
    "fnn_fake1[\"label\"] = 0\n",
    "fnn_fake2[\"label\"] = 0\n",
    "fnn_real1[\"label\"] = 1\n",
    "fnn_real2[\"label\"] = 1\n",
    "fake_newsnet = pd.concat([fnn_fake1, fnn_real1, fnn_fake2, fnn_real2], ignore_index=True)\n",
    "fake_newsnet[\"source\"] = \"fakenewsnet\"\n",
    "if \"text\" not in fake_newsnet.columns and \"title\" in fake_newsnet.columns:\n",
    "    fake_newsnet.rename(columns={\"title\": \"text\"}, inplace=True)\n",
    "fake_newsnet[\"text\"] = fake_newsnet[\"text\"].apply(clean_text)\n",
    "\n",
    "# Kaggle\n",
    "kaggle = pd.read_csv(os.path.join(DATA_DIR, \"kaggle_dataset\", \"Fake.csv\"))\n",
    "kaggle[\"label\"] = 0\n",
    "if \"text\" not in kaggle.columns and \"title\" in kaggle.columns:\n",
    "    kaggle[\"text\"] = kaggle[\"title\"]\n",
    "kaggle[\"source\"] = \"kaggle\"\n",
    "kaggle[\"text\"] = kaggle[\"text\"].apply(clean_text)\n",
    "\n",
    "# LIAR\n",
    "liar_train = pd.read_csv(os.path.join(DATA_DIR, \"liar_dataset\", \"train.tsv\"), sep=\"\\t\", header=None)\n",
    "liar_test = pd.read_csv(os.path.join(DATA_DIR, \"liar_dataset\", \"test.tsv\"), sep=\"\\t\", header=None)\n",
    "liar_val = pd.read_csv(os.path.join(DATA_DIR, \"liar_dataset\", \"valid.tsv\"), sep=\"\\t\", header=None)\n",
    "liar = pd.concat([liar_train, liar_test, liar_val], ignore_index=True)\n",
    "liar = liar[[0,1,2]]\n",
    "liar.columns = [\"id\", \"label_text\", \"text\"]\n",
    "liar[\"label\"] = liar[\"label_text\"].apply(normalize_label)\n",
    "liar = liar.dropna(subset=[\"label\"])\n",
    "liar[\"source\"] = \"liar\"\n",
    "liar[\"text\"] = liar[\"text\"].apply(clean_text)\n",
    "\n",
    "# merge all\n",
    "all_datasets = pd.concat([\n",
    "    fake_newsnet[[\"text\", \"label\", \"source\"]],\n",
    "    kaggle[[\"text\", \"label\", \"source\"]],\n",
    "    liar[[\"text\", \"label\", \"source\"]],\n",
    "], ignore_index=True)\n",
    "all_datasets.insert(0, \"id\", range(1, len(all_datasets) + 1))\n",
    "\n",
    "# save\n",
    "output_file = os.path.join(PROCESSED_DIR, \"all_news.csv\")\n",
    "all_datasets.to_csv(output_file, index=False)\n",
    "print(f\"Saved processed dataset to {output_file}\")\n",
    "\n",
    "# check dataset summary\n",
    "print(all_datasets.shape)  # rows, cols\n",
    "print(all_datasets[\"label\"].value_counts())  # fake vs real count\n",
    "print(all_datasets[\"source\"].value_counts())  # how many from each source\n"
   ]
  },
  {
   "cell_type": "code",
   "execution_count": null,
   "metadata": {},
   "outputs": [],
   "source": []
  }
 ],
 "metadata": {
  "kernelspec": {
   "display_name": "Python 3 (ipykernel)",
   "language": "python",
   "name": "python3"
  },
  "language_info": {
   "codemirror_mode": {
    "name": "ipython",
    "version": 3
   },
   "file_extension": ".py",
   "mimetype": "text/x-python",
   "name": "python",
   "nbconvert_exporter": "python",
   "pygments_lexer": "ipython3",
   "version": "3.9.6"
  }
 },
 "nbformat": 4,
 "nbformat_minor": 4
}
